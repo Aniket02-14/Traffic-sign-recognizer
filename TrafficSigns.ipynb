{
 "cells": [
  {
   "cell_type": "markdown",
   "metadata": {
    "id": "r3L6-75dk4sf"
   },
   "source": [
    "# Recognizing Traffic signs using ConvNets\n",
    "The dataset we will use is part of a competition named **German Traffic Sign Recognition Benchmark ( GTSRB )**, which attempted to score the performance of multiple models for the same goal.\n",
    "\n",
    "## Image Preprocessing\n",
    "The first operation of the model is reading the images and standardizing them. In fact, we cannot work with images of variable sizes; therefore, in this first step, we'll load the images and reshape them to a predefined size (32x32). Moreover, we will one-hot encode the labels in order to have a 43-dimensional array where only one element is enabled (it contains a 1), and we will convert the color space of the images from RGB to grayscale."
   ]
  },
  {
   "cell_type": "code",
   "execution_count": 1,
   "metadata": {
    "id": "P2UogC6Ynk9_"
   },
   "outputs": [],
   "source": [
    "N_Classes = 43\n",
    "Resized_image = (32,32)"
   ]
  },
  {
   "cell_type": "code",
   "execution_count": 2,
   "metadata": {
    "colab": {
     "base_uri": "https://localhost:8080/",
     "height": 450
    },
    "id": "4bgAgleeoI1P",
    "outputId": "06aa371f-ac27-451f-a4f6-4fc944682ca0"
   },
   "outputs": [
    {
     "name": "stdout",
     "output_type": "stream",
     "text": [
      "(39209, 32, 32, 1)\n",
      "(39209, 43)\n"
     ]
    }
   ],
   "source": [
    "# function to read images, resize to predefined shape, and convert them to greyscale, encode labels.\n",
    "import matplotlib.pyplot as plt\n",
    "import glob\n",
    "from skimage.color import rgb2lab\n",
    "from skimage.transform import resize\n",
    "from collections import namedtuple\n",
    "import numpy as np\n",
    "np.random.seed(101)\n",
    "%matplotlib inline\n",
    "Dataset = namedtuple('Dataset',['X','Y'])\n",
    "def to_tf_format(imgs):\n",
    "    # stacking images over each other.\n",
    "  return np.stack([img[:,:,np.newaxis] for img in imgs], axis=0).astype(np.float32)\n",
    "def read_dataset_ppm(rootpath, n_labels, resize_to):\n",
    "  images = []\n",
    "  labels = []\n",
    "  for c in range(n_labels):\n",
    "    full_path = rootpath + '/' + format(c, '05d') + '/'# defining full path of individual image folders.\n",
    "    for img_name in glob.glob(full_path + \"*.ppm\"):\n",
    "      # rgb to lab conversion.\n",
    "      img = plt.imread(img_name).astype(np.float32)#converting image to a matrix.\n",
    "      img = rgb2lab(img / 255.0)[:,:,0]\n",
    "      if resize_to:# resizing the image into desired size.\n",
    "        img = resize(img, resize_to, mode = 'reflect')\n",
    "        #one-hot encoding.\n",
    "      label = np.zeros((n_labels, ), dtype=np.float32)\n",
    "      label[c] = 1.0\n",
    "      images.append(img.astype(np.float32))\n",
    "      labels.append(label)\n",
    "  return Dataset(X = to_tf_format(images).astype(np.float32), Y = np.matrix(labels).astype(np.float32))\n",
    "dataset = read_dataset_ppm('/home/aniket/Documents/Traffic signals/GTSRB_Final_Training_Images/GTSRB/Final_Training/Images', N_Classes, Resized_image)\n",
    "print(dataset.X.shape)\n",
    "print(dataset.Y.shape)"
   ]
  },
  {
   "cell_type": "code",
   "execution_count": 3,
   "metadata": {
    "id": "JiQBxUysvP_i"
   },
   "outputs": [
    {
     "name": "stdout",
     "output_type": "stream",
     "text": [
      "[[1. 0. 0. 0. 0. 0. 0. 0. 0. 0. 0. 0. 0. 0. 0. 0. 0. 0. 0. 0. 0. 0. 0. 0.\n",
      "  0. 0. 0. 0. 0. 0. 0. 0. 0. 0. 0. 0. 0. 0. 0. 0. 0. 0. 0.]]\n"
     ]
    },
    {
     "data": {
      "image/png": "[encoded data removed]",
      "text/plain": [
       "<Figure size 432x288 with 1 Axes>"
      ]
     },
     "metadata": {
      "needs_background": "light"
     },
     "output_type": "display_data"
    }
   ],
   "source": [
    "plt.imshow(dataset.X[0,:,:,:].reshape(Resized_image))\n",
    "print(dataset.Y[0, :])"
   ]
  },
  {
   "cell_type": "code",
   "execution_count": 4,
   "metadata": {},
   "outputs": [
    {
     "name": "stdout",
     "output_type": "stream",
     "text": [
      "[[0. 0. 0. 0. 0. 0. 0. 0. 0. 0. 0. 0. 0. 0. 0. 0. 0. 0. 0. 0. 0. 0. 0. 0.\n",
      "  0. 0. 0. 0. 0. 0. 0. 0. 0. 0. 0. 0. 0. 0. 0. 0. 0. 0. 1.]]\n"
     ]
    },
    {
     "data": {
      "image/png": "[encoded data removed]",
      "text/plain": [
       "<Figure size 432x288 with 1 Axes>"
      ]
     },
     "metadata": {
      "needs_background": "light"
     },
     "output_type": "display_data"
    }
   ],
   "source": [
    "plt.imshow(dataset.X[-1,:,:,:].reshape(Resized_image))\n",
    "print(dataset.Y[-1, :])"
   ]
  },
  {
   "cell_type": "code",
   "execution_count": 5,
   "metadata": {},
   "outputs": [
    {
     "name": "stdout",
     "output_type": "stream",
     "text": [
      "(29406, 32, 32, 1)\n",
      "(29406, 43)\n",
      "(9803, 32, 32, 1)\n",
      "(9803, 43)\n"
     ]
    }
   ],
   "source": [
    "# train-test split\n",
    "from sklearn.model_selection import train_test_split\n",
    "idx_train, idx_test = train_test_split(range(dataset.X.shape[0]), test_size = 0.25, random_state = 101)\n",
    "X_train = dataset.X[idx_train, :, :, :]\n",
    "X_test = dataset.X[idx_test, :, :, :]\n",
    "Y_train = dataset.Y[idx_train,:]\n",
    "Y_test = dataset.Y[idx_test, :]\n",
    "print(X_train.shape)\n",
    "print(Y_train.shape)\n",
    "print(X_test.shape)\n",
    "print(Y_test.shape)"
   ]
  },
  {
   "cell_type": "markdown",
   "metadata": {},
   "source": [
    "## Train the model and make predictions"
   ]
  },
  {
   "cell_type": "code",
   "execution_count": 6,
   "metadata": {},
   "outputs": [],
   "source": [
    "# minibatch generator.\n",
    "def minibatcher(X, y, batch_size, shuffle):\n",
    "    assert X.shape[0] == y.shape[0]# checking whether number of X and y are same are not.\n",
    "    n_samples = X.shape[0]\n",
    "    if shuffle:\n",
    "        idx = np.random.permutation(n_samples)\n",
    "    else:\n",
    "        idx = list(range(n_samples))\n",
    "    for k in range(int(np.ceil(n_samples/batch_size))):\n",
    "        from_idx = k*batch_size\n",
    "        to_idx = (k+1)*batch_size\n",
    "        yield X[idx[from_idx:to_idx], :, :, :], y[idx[from_idx:to_idx], :]"
   ]
  },
  {
   "cell_type": "code",
   "execution_count": 7,
   "metadata": {},
   "outputs": [
    {
     "name": "stdout",
     "output_type": "stream",
     "text": [
      "(10000, 32, 32, 1) (10000, 43)\n",
      "(10000, 32, 32, 1) (10000, 43)\n",
      "(9406, 32, 32, 1) (9406, 43)\n"
     ]
    }
   ],
   "source": [
    "# batch_size = 10000\n",
    "for mb in minibatcher(X_train, Y_train, 10000, True):\n",
    "    print(mb[0].shape, mb[1].shape)"
   ]
  },
  {
   "cell_type": "markdown",
   "metadata": {},
   "source": [
    "We will use Xavier initialization for the coefficients(weights) and 0-initilization for the biases to have the layer centered and scaled properly. The output is simply the multiplication of the input tensor by the weights, plus the bias."
   ]
  },
  {
   "cell_type": "code",
   "execution_count": 8,
   "metadata": {},
   "outputs": [
    {
     "name": "stderr",
     "output_type": "stream",
     "text": [
      "2022-08-30 10:28:51.513327: W tensorflow/stream_executor/platform/default/dso_loader.cc:64] Could not load dynamic library 'libcudart.so.11.0'; dlerror: libcudart.so.11.0: cannot open shared object file: No such file or directory\n",
      "2022-08-30 10:28:51.513366: I tensorflow/stream_executor/cuda/cudart_stub.cc:29] Ignore above cudart dlerror if you do not have a GPU set up on your machine.\n"
     ]
    }
   ],
   "source": [
    "# fully connected layers without activation layers.\n",
    "import tensorflow as tf\n",
    "import tf_slim as slim\n",
    "def fc_no_activation_layer(in_tensors, n_units):\n",
    "    w = tf.compat.v1.get_variable('fc_W', [in_tensors.get_shape()[1], n_units], tf.float32, tf.keras.initializers.GlorotUniform())\n",
    "    b = tf.compat.v1.get_variable('fc_B', [n_units, ], tf.float32, tf.constant_initializer(0.0))\n",
    "    return tf.matmul(in_tensors, w) + b"
   ]
  },
  {
   "cell_type": "code",
   "execution_count": 9,
   "metadata": {},
   "outputs": [],
   "source": [
    "# fully connected layers with activation layers(Leaky ReLU).\n",
    "def fc_layer(in_tensors, n_units):\n",
    "    return tf.nn.leaky_relu(fc_no_activation_layer(in_tensors, n_units))"
   ]
  },
  {
   "cell_type": "code",
   "execution_count": 10,
   "metadata": {},
   "outputs": [],
   "source": [
    "# convolutional layers with Leaky ReLU activations.\n",
    "def conv_layer(in_tensors, kernel_size, n_units):\n",
    "    w = tf.compat.v1.get_variable('conv_W', [kernel_size, kernel_size, in_tensors.get_shape()[3], n_units], tf.float32, tf.keras.initializers.GlorotUniform())\n",
    "    b = tf.compat.v1.get_variable('conv_B', [n_units, ], tf.float32, tf.constant_initializer(0.0))\n",
    "    return tf.nn.leaky_relu(tf.nn.conv2d(in_tensors, w, [1, 1, 1, 1], 'SAME') + b) "
   ]
  },
  {
   "cell_type": "code",
   "execution_count": 11,
   "metadata": {},
   "outputs": [],
   "source": [
    "# MAXPOOL layer\n",
    "def maxpool_layer(in_tensors, sampling):\n",
    "    return tf.nn.max_pool(in_tensors, [1, sampling, sampling, 1], [1, sampling, sampling, 1], 'SAME')"
   ]
  },
  {
   "cell_type": "code",
   "execution_count": 12,
   "metadata": {},
   "outputs": [],
   "source": [
    "# dropout for regularizing the network\n",
    "def dropout(in_tensors, keep_proba, is_training):\n",
    "    return tf.cond(is_training, lambda: tf.nn.dropout(in_tensors, keep_proba), lambda: in_tensors)"
   ]
  },
  {
   "cell_type": "code",
   "execution_count": 13,
   "metadata": {},
   "outputs": [],
   "source": [
    "# putting all together and creating the model.\n",
    "def model(in_tensors, is_training):\n",
    "    # First layer: 5x5 2d-conv, 32 filters, 2x maxpool, 20% dropout\n",
    "    with tf.compat.v1.variable_scope('l1'):\n",
    "        l1 = maxpool_layer(conv_layer(in_tensors, 5, 32), 2)\n",
    "        l1_out = dropout(l1, 0.7, is_training)\n",
    "    # Second layer: 5x5 2d_conv, 64 filters, 2x maxpool, 20% dropout\n",
    "    with tf.compat.v1.variable_scope('l2'):\n",
    "        l2 = maxpool_layer(conv_layer(l1_out, 5, 64), 2)\n",
    "        l2_out = dropout(l2, 0.7, is_training)\n",
    "    with tf.compat.v1.variable_scope('flatten'):\n",
    "        l2_out_flat = tf.compat.v1.layers.flatten(l2_out)\n",
    "    # Fully collection layer, 1024 neurons, 40% dropout\n",
    "    with tf.compat.v1.variable_scope('l3'):\n",
    "        l3 = fc_layer(l2_out_flat, 1024)\n",
    "        l3_out = dropout(l3, 0.6, is_training)\n",
    "    # output\n",
    "    with tf.compat.v1.variable_scope('out'):\n",
    "        out_tensors = fc_no_activation_layer(l3_out, N_Classes)\n",
    "    return out_tensors"
   ]
  },
  {
   "cell_type": "code",
   "execution_count": 14,
   "metadata": {},
   "outputs": [],
   "source": [
    "from sklearn.metrics import classification_report, confusion_matrix\n",
    "def train_model(X_train, Y_train, X_test, Y_test, learning_rate, max_epochs, batch_size):\n",
    "    in_X_tensors_batch = tf.compat.v1.placeholder(tf.float32, shape = (None, Resized_image[0], Resized_image[1], 1))\n",
    "    in_Y_tensors_batch = tf.compat.v1.placeholder(tf.float32, shape = (None, N_Classes))\n",
    "    is_training = tf.compat.v1.placeholder(tf.bool)\n",
    "    logits = model(in_X_tensors_batch, is_training)\n",
    "    out_y_pred = tf.nn.softmax(logits)\n",
    "    loss_score = tf.nn.softmax_cross_entropy_with_logits(logits=logits, labels=in_Y_tensors_batch)\n",
    "    loss = tf.reduce_mean(loss_score)\n",
    "    optimizer = tf.compat.v1.train.AdamOptimizer(learning_rate).minimize(loss)\n",
    "    with tf.compat.v1.Session() as session:\n",
    "        session.run(tf.compat.v1.global_variables_initializer())\n",
    "        for epoch in range(max_epochs):\n",
    "            print(\"Epoch=\", epoch)\n",
    "            tf_score = []\n",
    "            for mb in minibatcher(X_train, Y_train, batch_size, shuffle = True):\n",
    "                tf_output = session.run([optimizer, loss], feed_dict = {in_X_tensors_batch : mb[0],in_Y_tensors_batch : mb[1], is_training :True})\n",
    "                tf_score.append(tf_output[1])\n",
    "            print(\"train_loss_score = \", np.mean(tf_score))\n",
    "        print(\"TEST SET PERFORMANCE\")\n",
    "        y_test_pred, test_loss = session.run([out_y_pred, loss], feed_dict = {in_X_tensors_batch: X_test, in_Y_tensors_batch : Y_test, is_training:False})\n",
    "        print(\"test_loss_score = \", test_loss)\n",
    "        y_test_pred_classified = np.argmax(y_test_pred, axis = 1).astype(np.int32)\n",
    "        y_test_true_classified = np.argmax(Y_test, axis = 1).astype(np.int32)\n",
    "        print(classification_report(y_test_true_classified, y_test_pred_classified))\n",
    "        cm = confusion_matrix(y_test_true_classified, y_test_pred_classified)\n",
    "        plt.imshow(cm, interpolation = 'nearest', cmap = plt.cm.Blues)\n",
    "        plt.colorbar()\n",
    "        plt.tight_layout()\n",
    "        plt.show()\n",
    "        # and the log2 version, to emphasize the misclassifications\n",
    "        plt.imshow(np.log2(cm-1), interpolation = 'nearest', cmap = plt.get_cmap(\"tab20\"))\n",
    "        plt.colorbar()\n",
    "        plt.tight_layout()\n",
    "        plt.show()\n",
    "tf.compat.v1.reset_default_graph()"
   ]
  },
  {
   "cell_type": "code",
   "execution_count": 15,
   "metadata": {},
   "outputs": [
    {
     "name": "stderr",
     "output_type": "stream",
     "text": [
      "2022-08-30 10:29:05.157039: E tensorflow/stream_executor/cuda/cuda_driver.cc:271] failed call to cuInit: CUDA_ERROR_NO_DEVICE: no CUDA-capable device is detected\n",
      "2022-08-30 10:29:05.157071: I tensorflow/stream_executor/cuda/cuda_diagnostics.cc:156] kernel driver does not appear to be running on this host (aniket-IdeaPad-Gaming3-15ARH05D): /proc/driver/nvidia/version does not exist\n",
      "/tmp/ipykernel_5169/2822115002.py:12: UserWarning: `tf.layers.flatten` is deprecated and will be removed in a future version. Please use `tf.keras.layers.Flatten` instead.\n",
      "  l2_out_flat = tf.compat.v1.layers.flatten(l2_out)\n",
      "/home/aniket/.local/lib/python3.8/site-packages/keras/legacy_tf_layers/core.py:541: UserWarning: `layer.apply` is deprecated and will be removed in a future version. Please use `layer.__call__` method instead.\n",
      "  return layer.apply(inputs)\n",
      "2022-08-30 10:29:05.815536: I tensorflow/core/platform/cpu_feature_guard.cc:151] This TensorFlow binary is optimized with oneAPI Deep Neural Network Library (oneDNN) to use the following CPU instructions in performance-critical operations:  AVX2 FMA\n",
      "To enable them in other operations, rebuild TensorFlow with the appropriate compiler flags.\n"
     ]
    },
    {
     "name": "stdout",
     "output_type": "stream",
     "text": [
      "Epoch= 0\n",
      "train_loss_score =  7.074169\n",
      "Epoch= 1\n",
      "train_loss_score =  2.5416887\n",
      "Epoch= 2\n",
      "train_loss_score =  1.7091126\n",
      "Epoch= 3\n",
      "train_loss_score =  1.2758688\n",
      "Epoch= 4\n",
      "train_loss_score =  1.0289983\n",
      "Epoch= 5\n",
      "train_loss_score =  0.85809284\n",
      "Epoch= 6\n",
      "train_loss_score =  0.76316416\n",
      "Epoch= 7\n",
      "train_loss_score =  0.6960726\n",
      "Epoch= 8\n",
      "train_loss_score =  0.6294694\n",
      "Epoch= 9\n",
      "train_loss_score =  0.585193\n",
      "TEST SET PERFORMANCE\n"
     ]
    },
    {
     "name": "stderr",
     "output_type": "stream",
     "text": [
      "2022-08-30 10:34:06.663760: W tensorflow/core/framework/cpu_allocator_impl.cc:82] Allocation of 1284898816 exceeds 10% of free system memory.\n",
      "2022-08-30 10:34:07.368159: W tensorflow/core/framework/cpu_allocator_impl.cc:82] Allocation of 321224704 exceeds 10% of free system memory.\n",
      "2022-08-30 10:34:07.578180: W tensorflow/core/framework/cpu_allocator_impl.cc:82] Allocation of 642449408 exceeds 10% of free system memory.\n"
     ]
    },
    {
     "name": "stdout",
     "output_type": "stream",
     "text": [
      "test_loss_score =  0.15547654\n",
      "              precision    recall  f1-score   support\n",
      "\n",
      "           0       1.00      0.88      0.94        67\n",
      "           1       0.94      0.95      0.94       539\n",
      "           2       0.95      0.90      0.92       558\n",
      "           3       0.97      0.86      0.91       364\n",
      "           4       0.93      0.98      0.96       487\n",
      "           5       0.86      0.94      0.90       479\n",
      "           6       1.00      1.00      1.00       105\n",
      "           7       0.94      0.90      0.92       364\n",
      "           8       0.89      0.95      0.92       340\n",
      "           9       0.99      0.99      0.99       384\n",
      "          10       0.99      0.99      0.99       513\n",
      "          11       0.99      0.94      0.97       334\n",
      "          12       0.99      0.99      0.99       545\n",
      "          13       1.00      0.99      0.99       537\n",
      "          14       0.98      0.99      0.98       213\n",
      "          15       0.95      1.00      0.97       164\n",
      "          16       1.00      1.00      1.00        98\n",
      "          17       0.99      0.99      0.99       281\n",
      "          18       0.93      0.99      0.96       286\n",
      "          19       0.98      0.95      0.96        56\n",
      "          20       0.91      0.99      0.94        78\n",
      "          21       1.00      0.82      0.90        95\n",
      "          22       0.98      1.00      0.99        97\n",
      "          23       0.95      0.94      0.95       123\n",
      "          24       0.91      0.96      0.94        77\n",
      "          25       0.99      0.99      0.99       401\n",
      "          26       0.93      0.92      0.92       135\n",
      "          27       0.85      0.95      0.90        60\n",
      "          28       0.92      0.99      0.95       123\n",
      "          29       0.98      0.84      0.91        69\n",
      "          30       0.94      0.86      0.90       115\n",
      "          31       0.90      0.99      0.94       178\n",
      "          32       0.95      1.00      0.97        55\n",
      "          33       1.00      0.98      0.99       177\n",
      "          34       0.98      0.99      0.99       103\n",
      "          35       1.00      0.99      0.99       277\n",
      "          36       0.97      1.00      0.99        78\n",
      "          37       0.98      1.00      0.99        63\n",
      "          38       1.00      0.98      0.99       540\n",
      "          39       1.00      0.98      0.99        60\n",
      "          40       0.92      0.89      0.90        85\n",
      "          41       1.00      1.00      1.00        47\n",
      "          42       1.00      1.00      1.00        53\n",
      "\n",
      "    accuracy                           0.96      9803\n",
      "   macro avg       0.96      0.96      0.96      9803\n",
      "weighted avg       0.96      0.96      0.96      9803\n",
      "\n"
     ]
    },
    {
     "data": {
      "image/png": "[encoded data removed]",
      "text/plain": [
       "<Figure size 432x288 with 2 Axes>"
      ]
     },
     "metadata": {
      "needs_background": "light"
     },
     "output_type": "display_data"
    },
    {
     "name": "stderr",
     "output_type": "stream",
     "text": [
      "/tmp/ipykernel_5169/1423096600.py:32: RuntimeWarning: divide by zero encountered in log2\n",
      "  plt.imshow(np.log2(cm-1), interpolation = 'nearest', cmap = plt.get_cmap(\"tab20\"))\n",
      "/tmp/ipykernel_5169/1423096600.py:32: RuntimeWarning: invalid value encountered in log2\n",
      "  plt.imshow(np.log2(cm-1), interpolation = 'nearest', cmap = plt.get_cmap(\"tab20\"))\n"
     ]
    },
    {
     "data": {
      "image/png": "[encoded data removed]",
      "text/plain": [
       "<Figure size 432x288 with 2 Axes>"
      ]
     },
     "metadata": {
      "needs_background": "light"
     },
     "output_type": "display_data"
    }
   ],
   "source": [
    "tf.compat.v1.disable_eager_execution()\n",
    "train_model(X_train, Y_train, X_test, Y_test, 0.001,10,256)"
   ]
  },
  {
   "cell_type": "markdown",
   "metadata": {},
   "source": [
    "As you can see, we managed to reach a precision of 0.96 on the test set; also, recall and f1 score have the same score. The model looks stable since the loss in the test set is similar to the one reported in the last iteration; therefore, we're not over-fitting nor under-fitting."
   ]
  },
  {
   "cell_type": "code",
   "execution_count": null,
   "metadata": {},
   "outputs": [],
   "source": []
  }
 ],
 "metadata": {
  "colab": {
   "name": "TrafficSigns.ipynb",
   "provenance": []
  },
  "kernelspec": {
   "display_name": "Python 3 (ipykernel)",
   "language": "python",
   "name": "python3"
  },
  "language_info": {
   "codemirror_mode": {
    "name": "ipython",
    "version": 3
   },
   "file_extension": ".py",
   "mimetype": "text/x-python",
   "name": "python",
   "nbconvert_exporter": "python",
   "pygments_lexer": "ipython3",
   "version": "3.8.10"
  }
 },
 "nbformat": 4,
 "nbformat_minor": 1
}
